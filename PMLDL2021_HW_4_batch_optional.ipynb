{
 "cells": [
  {
   "cell_type": "code",
   "execution_count": 2,
   "metadata": {},
   "outputs": [],
   "source": [
    "import numpy as np\n",
    "%matplotlib inline"
   ]
  },
  {
   "cell_type": "markdown",
   "metadata": {},
   "source": [
    "PML&DL Homework (optional)\n",
    "=============================\n",
    "Based on the Tutorial: https://docs.dgl.ai/en/0.4.x/tutorials/basics/4_batch.html \n",
    "\n",
    "Instructions for the assignment are given in tags: [PMLDL] ... [/PMLDL]\n",
    "\n",
    "Graph classification is an important problem\n",
    "with applications across many fields, such as bioinformatics, chemoinformatics, social\n",
    "network analysis, urban computing, and cybersecurity. Applying graph neural\n",
    "networks to this problem has been a popular approach recently. This can be seen in the following reserach references: \n",
    "`Ying et al., 2018 <https://arxiv.org/abs/1806.08804>`_,\n",
    "`Cangea et al., 2018 <https://arxiv.org/abs/1811.01287>`_,\n",
    "`Knyazev et al., 2018 <https://arxiv.org/abs/1811.09595>`_,\n",
    "`Bianchi et al., 2019 <https://arxiv.org/abs/1901.01343>`_,\n",
    "`Liao et al., 2019 <https://arxiv.org/abs/1901.01484>`_,\n",
    "`Gao et al., 2019 <https://openreview.net/forum?id=HJePRoAct7>`_).\n"
   ]
  },
  {
   "cell_type": "markdown",
   "metadata": {},
   "source": [
    "Simple graph classification task\n",
    "--------------------------------\n",
    "In this tutorial, you learn how to perform batched graph classification\n",
    "with DGL. The example task objective is to classify eight types of topologies shown here.\n",
    "\n",
    "![](https://data.dgl.ai/tutorial/batch/dataset_overview.png)\n",
    "\n",
    "    :align: center\n",
    "\n",
    "Implement a synthetic dataset :class:`data.MiniGCDataset` in DGL. The dataset has eight \n",
    "different types of graphs and each class has the same number of graph samples.\n",
    "\n"
   ]
  },
  {
   "cell_type": "code",
   "execution_count": 4,
   "metadata": {},
   "outputs": [
    {
     "data": {
      "text/plain": "'\\n[PMLDL]\\n\\nHere YourNameItGCDataset dataset[0] should return a three elements: \\ngraph, node_features, label = dataset[0]\\nnode_features stores all node features of the graph\\n\\n[/PMLDL]\\n'"
     },
     "execution_count": 4,
     "metadata": {},
     "output_type": "execute_result"
    }
   ],
   "source": [
    "from IPython.core.display import clear_output\n",
    "from dgl import DGLHeteroGraph\n",
    "# Used partially idea from: https://towardsdatascience.com/node2vec-embeddings-for-graph-data-32a866340fef\n",
    "import dgl\n",
    "from dgl.data import MiniGCDataset\n",
    "from node2vec import Node2Vec\n",
    "\n",
    "'''\n",
    "[PMLDL]\n",
    "Check the MiniGCDataset source code and implement a class that generated a vector of features for each node (e.g. using node2vec).\n",
    "So, result would be a YourNameItGCDataset class. \n",
    "[/PMLDL]\n",
    "'''\n",
    "\n",
    "\n",
    "class RavidaItGCDAtaset( MiniGCDataset):\n",
    "    def __init__(self, dataset):\n",
    "        outs = []\n",
    "        for pair in dataset:\n",
    "            graph, label  = pair\n",
    "            node2vec = Node2Vec(dgl.to_networkx(graph), dimensions=20, walk_length=16,\n",
    "                                 num_walks=100, workers=2)\n",
    "            model = node2vec.fit(window = 10, min_count = 1, batch_words = 4)\n",
    "            emb = model.wv.vectors\n",
    "            outs.append((graph,emb,label))\n",
    "        self.out = outs\n",
    "\n",
    "    def __getitem__(self, item):\n",
    "        return self.out[item]\n",
    "\n",
    "\n",
    "import matplotlib.pyplot as plt\n",
    "import networkx as nx\n",
    "\n",
    "# A dataset with 80 samples, each graph is\n",
    "# of size [10, 20]\n",
    "dataset = MiniGCDataset(80, 10, 20)\n",
    "graph, label = dataset[0]\n",
    "\n",
    "gr = RavidaItGCDAtaset(dataset)\n",
    "clear_output()\n",
    "'''\n",
    "[PMLDL]\n",
    "\n",
    "Here YourNameItGCDataset dataset[0] should return a three elements: \n",
    "graph, node_features, label = dataset[0]\n",
    "node_features stores all node features of the graph\n",
    "\n",
    "[/PMLDL]\n",
    "'''"
   ]
  },
  {
   "cell_type": "code",
   "execution_count": null,
   "outputs": [],
   "source": [
    "graphs, feat, labels = gr[0]\n",
    "print(feat.shape)"
   ],
   "metadata": {
    "collapsed": false,
    "pycharm": {
     "name": "#%%\n"
    }
   }
  },
  {
   "cell_type": "markdown",
   "metadata": {},
   "source": [
    "Form a graph mini-batch\n",
    "-----------------------\n",
    "To train neural networks efficiently, a common practice is to batch\n",
    "multiple samples together to form a mini-batch. Batching fixed-shaped tensor\n",
    "inputs is common. For example, batching two images of size 28 x 28\n",
    "gives a tensor of shape 2 x 28 x 28. By contrast, batching graph inputs\n",
    "has two challenges:\n",
    "\n",
    "* Graphs are sparse.\n",
    "* Graphs can have various length. For example, number of nodes and edges.\n",
    "\n",
    "To address this, DGL provides a :func:`dgl.batch` API. It leverages the idea that\n",
    "a batch of graphs can be viewed as a large graph that has many disjointed \n",
    "connected components. Below is a visualization that gives the general idea.\n",
    "\n",
    "![](https://data.dgl.ai/tutorial/batch/batch.png)\n",
    "\n",
    "    :width: 400pt\n",
    "    :align: center\n",
    "\n",
    "Define the following ``collate`` function to form a mini-batch from a given\n",
    "list of graph and label pairs.\n",
    "\n"
   ]
  },
  {
   "cell_type": "code",
   "execution_count": 7,
   "metadata": {},
   "outputs": [
    {
     "data": {
      "text/plain": "'\\n[PMLDL]\\n\\nHere you need to implement a new version of the collate(...) function.\\nNew version should collate (stack) the graph, features and labels in a mini-batch.\\n\\n[/PMLDL]\\n'"
     },
     "execution_count": 7,
     "metadata": {},
     "output_type": "execute_result"
    }
   ],
   "source": [
    "import dgl\n",
    "import torch\n",
    "import numpy as np\n",
    "\n",
    "\n",
    "def collate(samples):\n",
    "    # The input `samples` is a list of pairs\n",
    "    #  (graph, label).\n",
    "    graphs, labels = map(list, zip(*samples))\n",
    "    batched_graph = dgl.batch(graphs)\n",
    "    return batched_graph, torch.tensor(labels)\n",
    "\n",
    "\n",
    "def my_collate(samples):\n",
    "    graphs, features, labels = map(list, zip(*samples))\n",
    "    batched_graph = dgl.batch(graphs)\n",
    "\n",
    "    features = [item[1] for item in samples]\n",
    "    batched_features = np.vstack(features)\n",
    "\n",
    "    return batched_graph, torch.tensor(batched_features), torch.tensor(labels)\n",
    "\n",
    "\n",
    "\n",
    "'''\n",
    "[PMLDL]\n",
    "\n",
    "Here you need to implement a new version of the collate(...) function.\n",
    "New version should collate (stack) the graph, features and labels in a mini-batch.\n",
    "\n",
    "[/PMLDL]\n",
    "'''"
   ]
  },
  {
   "cell_type": "markdown",
   "metadata": {},
   "source": [
    "The return type of :func:`dgl.batch` is still a graph. In the same way, \n",
    "a batch of tensors is still a tensor. This means that any code that works\n",
    "for one graph immediately works for a batch of graphs. More importantly,\n",
    "because DGL processes messages on all nodes and edges in parallel, this greatly\n",
    "improves efficiency.\n",
    "\n",
    "Graph classifier\n",
    "----------------\n",
    "Graph classification proceeds as follows.\n",
    "\n",
    "![](https://data.dgl.ai/tutorial/batch/graph_classifier.png)\n",
    "\n",
    "\n",
    "From a batch of graphs, perform message passing and graph convolution\n",
    "for nodes to communicate with others. After message passing, compute a\n",
    "tensor for graph representation from node (and edge) attributes. This step might \n",
    "be called readout or aggregation. Finally, the graph \n",
    "representations are fed into a classifier $g$ to predict the graph labels.\n",
    "\n",
    "Graph convolution layer can be found in the ``dgl.nn.<backend>`` submodule.\n",
    "\n"
   ]
  },
  {
   "cell_type": "code",
   "execution_count": null,
   "metadata": {},
   "outputs": [],
   "source": [
    "from dgl.nn.pytorch import GraphConv"
   ]
  },
  {
   "cell_type": "markdown",
   "metadata": {},
   "source": [
    "Readout and classification\n",
    "--------------------------\n",
    "For this demonstration, consider initial node features to be their degrees.\n",
    "After two rounds of graph convolution, perform a graph readout by averaging\n",
    "over all node features for each graph in the batch.\n",
    "\n",
    "\\begin{align}h_g=\\frac{1}{|\\mathcal{V}|}\\sum_{v\\in\\mathcal{V}}h_{v}\\end{align}\n",
    "\n",
    "In DGL, :func:`dgl.mean_nodes` handles this task for a batch of\n",
    "graphs with variable size. You then feed the graph representations into a\n",
    "classifier with one linear layer to obtain pre-softmax logits.\n",
    "\n"
   ]
  },
  {
   "cell_type": "code",
   "execution_count": 6,
   "metadata": {},
   "outputs": [],
   "source": [
    "import torch.nn as nn\n",
    "import torch.nn.functional as F\n",
    "\n",
    "\n",
    "class Classifier(nn.Module):\n",
    "    def __init__(self, in_dim, hidden_dim, n_classes):\n",
    "        super(Classifier, self).__init__()\n",
    "        self.conv1 = GraphConv(in_dim, hidden_dim)\n",
    "        self.conv2 = GraphConv(hidden_dim, hidden_dim)\n",
    "        self.classify = nn.Linear(hidden_dim, n_classes)\n",
    "\n",
    "    def forward(self, g,h):\n",
    "        # Use node degree as the initial node feature. For undirected graphs, the in-degree\n",
    "        # is the same as the out_degree.\n",
    "\n",
    "        # h = g.in_degrees().view(-1, 1).float()\n",
    "\n",
    "        '''\n",
    "        [PMLDL]\n",
    "        This call: h = g.in_degrees().view(-1, 1).float()\n",
    "        feeds nodes degees list into input of the GCN (so, in_dim == 1).\n",
    "\n",
    "        Here you need to change the code to feed features of nodes into input layer.\n",
    "        Thus, in_dim will be the dimension of a feature-vector (say, 50).\n",
    "        In the lecture slides such vector for a node v was called x_v\n",
    "\n",
    "        [/PMLDL]\n",
    "        '''\n",
    "\n",
    "        # Perform graph convolution and activation function.\n",
    "        h = F.relu(self.conv1(g, h))\n",
    "        h = F.relu(self.conv2(g, h))\n",
    "        g.ndata['h'] = h\n",
    "        # Calculate graph representation by averaging all the node representations.\n",
    "        hg = dgl.mean_nodes(g, 'h')\n",
    "        return self.classify(hg)"
   ]
  },
  {
   "cell_type": "markdown",
   "metadata": {},
   "source": [
    "Setup and training\n",
    "------------------\n",
    "Create a synthetic dataset of $400$ graphs with $10$ ~\n",
    "$20$ nodes. $320$ graphs constitute a training set and\n",
    "$80$ graphs constitute a test set.\n",
    "\n"
   ]
  },
  {
   "cell_type": "code",
   "execution_count": 8,
   "metadata": {},
   "outputs": [],
   "source": [
    "import torch.optim as optim\n",
    "from torch.utils.data import DataLoader\n",
    "\n",
    "# Create training and test sets.\n",
    "'''\n",
    "[PMLDL]\n",
    "\n",
    "Here calls to the YourNameItGCDataset class\n",
    "\n",
    "[/PMLDL]\n",
    "'''\n",
    "trainset = MiniGCDataset(320, 10, 20)\n",
    "testset = MiniGCDataset(80, 10, 20)"
   ]
  },
  {
   "cell_type": "code",
   "execution_count": null,
   "outputs": [
    {
     "data": {
      "text/plain": "Computing transition probabilities:   0%|          | 0/15 [00:00<?, ?it/s]",
      "application/vnd.jupyter.widget-view+json": {
       "version_major": 2,
       "version_minor": 0,
       "model_id": "7bb6d688bfba4ba5a824703fb708d33e"
      }
     },
     "metadata": {},
     "output_type": "display_data"
    },
    {
     "name": "stderr",
     "output_type": "stream",
     "text": [
      "Generating walks (CPU: 1): 100%|██████████| 50/50 [00:00<00:00, 1258.15it/s]\n",
      "Generating walks (CPU: 2): 100%|██████████| 50/50 [00:00<00:00, 1269.20it/s]\n"
     ]
    },
    {
     "data": {
      "text/plain": "Computing transition probabilities:   0%|          | 0/10 [00:00<?, ?it/s]",
      "application/vnd.jupyter.widget-view+json": {
       "version_major": 2,
       "version_minor": 0,
       "model_id": "702e2fc7fbcb4f15aeba947273c12c41"
      }
     },
     "metadata": {},
     "output_type": "display_data"
    },
    {
     "name": "stderr",
     "output_type": "stream",
     "text": [
      "Generating walks (CPU: 2): 100%|██████████| 50/50 [00:00<00:00, 1507.61it/s]\n",
      "Generating walks (CPU: 1): 100%|██████████| 50/50 [00:00<00:00, 1437.39it/s]\n"
     ]
    },
    {
     "data": {
      "text/plain": "Computing transition probabilities:   0%|          | 0/13 [00:00<?, ?it/s]",
      "application/vnd.jupyter.widget-view+json": {
       "version_major": 2,
       "version_minor": 0,
       "model_id": "0ad044830bb54068838cb21c8b249cae"
      }
     },
     "metadata": {},
     "output_type": "display_data"
    },
    {
     "name": "stderr",
     "output_type": "stream",
     "text": [
      "Generating walks (CPU: 1): 100%|██████████| 50/50 [00:00<00:00, 1145.01it/s]\n",
      "Generating walks (CPU: 2): 100%|██████████| 50/50 [00:00<00:00, 1089.03it/s]\n"
     ]
    },
    {
     "data": {
      "text/plain": "Computing transition probabilities:   0%|          | 0/13 [00:00<?, ?it/s]",
      "application/vnd.jupyter.widget-view+json": {
       "version_major": 2,
       "version_minor": 0,
       "model_id": "221a5237c1d242e6a7aeca5383db70ba"
      }
     },
     "metadata": {},
     "output_type": "display_data"
    },
    {
     "name": "stderr",
     "output_type": "stream",
     "text": [
      "Generating walks (CPU: 1): 100%|██████████| 50/50 [00:00<00:00, 1411.94it/s]\n",
      "Generating walks (CPU: 2): 100%|██████████| 50/50 [00:00<00:00, 1378.49it/s]\n"
     ]
    },
    {
     "data": {
      "text/plain": "Computing transition probabilities:   0%|          | 0/17 [00:00<?, ?it/s]",
      "application/vnd.jupyter.widget-view+json": {
       "version_major": 2,
       "version_minor": 0,
       "model_id": "8ece3f1021694da387a1973a7aad1136"
      }
     },
     "metadata": {},
     "output_type": "display_data"
    },
    {
     "name": "stderr",
     "output_type": "stream",
     "text": [
      "Generating walks (CPU: 1): 100%|██████████| 50/50 [00:00<00:00, 1058.95it/s]\n",
      "Generating walks (CPU: 2): 100%|██████████| 50/50 [00:00<00:00, 1063.99it/s]\n"
     ]
    },
    {
     "data": {
      "text/plain": "Computing transition probabilities:   0%|          | 0/19 [00:00<?, ?it/s]",
      "application/vnd.jupyter.widget-view+json": {
       "version_major": 2,
       "version_minor": 0,
       "model_id": "c7523c74b8dc404ea8f3e7c185ec56f6"
      }
     },
     "metadata": {},
     "output_type": "display_data"
    },
    {
     "name": "stderr",
     "output_type": "stream",
     "text": [
      "Generating walks (CPU: 1): 100%|██████████| 50/50 [00:00<00:00, 973.50it/s]\n",
      "Generating walks (CPU: 2): 100%|██████████| 50/50 [00:00<00:00, 931.24it/s]\n"
     ]
    },
    {
     "data": {
      "text/plain": "Computing transition probabilities:   0%|          | 0/13 [00:00<?, ?it/s]",
      "application/vnd.jupyter.widget-view+json": {
       "version_major": 2,
       "version_minor": 0,
       "model_id": "74d1998c9dda491d9f7e5f6e13a494fc"
      }
     },
     "metadata": {},
     "output_type": "display_data"
    },
    {
     "name": "stderr",
     "output_type": "stream",
     "text": [
      "Generating walks (CPU: 1): 100%|██████████| 50/50 [00:00<00:00, 1397.14it/s]\n",
      "Generating walks (CPU: 2): 100%|██████████| 50/50 [00:00<00:00, 1395.06it/s]\n"
     ]
    },
    {
     "data": {
      "text/plain": "Computing transition probabilities:   0%|          | 0/15 [00:00<?, ?it/s]",
      "application/vnd.jupyter.widget-view+json": {
       "version_major": 2,
       "version_minor": 0,
       "model_id": "a7dcaaa9bf3a46f781d1b7c5eb405a51"
      }
     },
     "metadata": {},
     "output_type": "display_data"
    },
    {
     "name": "stderr",
     "output_type": "stream",
     "text": [
      "Generating walks (CPU: 1): 100%|██████████| 50/50 [00:00<00:00, 1028.79it/s]\n",
      "Generating walks (CPU: 2): 100%|██████████| 50/50 [00:00<00:00, 1002.14it/s]\n"
     ]
    },
    {
     "data": {
      "text/plain": "Computing transition probabilities:   0%|          | 0/12 [00:00<?, ?it/s]",
      "application/vnd.jupyter.widget-view+json": {
       "version_major": 2,
       "version_minor": 0,
       "model_id": "ef064158dec34da18cd91f870afd8462"
      }
     },
     "metadata": {},
     "output_type": "display_data"
    },
    {
     "name": "stderr",
     "output_type": "stream",
     "text": [
      "Generating walks (CPU: 1): 100%|██████████| 50/50 [00:00<00:00, 1255.37it/s]\n",
      "Generating walks (CPU: 2): 100%|██████████| 50/50 [00:00<00:00, 1127.43it/s]\n"
     ]
    },
    {
     "data": {
      "text/plain": "Computing transition probabilities:   0%|          | 0/14 [00:00<?, ?it/s]",
      "application/vnd.jupyter.widget-view+json": {
       "version_major": 2,
       "version_minor": 0,
       "model_id": "3e4e7b7674e1402e9ebedbb7dc91b780"
      }
     },
     "metadata": {},
     "output_type": "display_data"
    },
    {
     "name": "stderr",
     "output_type": "stream",
     "text": [
      "Generating walks (CPU: 1): 100%|██████████| 50/50 [00:00<00:00, 1212.72it/s]\n",
      "Generating walks (CPU: 2): 100%|██████████| 50/50 [00:00<00:00, 1228.03it/s]\n"
     ]
    },
    {
     "data": {
      "text/plain": "Computing transition probabilities:   0%|          | 0/17 [00:00<?, ?it/s]",
      "application/vnd.jupyter.widget-view+json": {
       "version_major": 2,
       "version_minor": 0,
       "model_id": "d475e17f52a649a28b465e64e6d6a904"
      }
     },
     "metadata": {},
     "output_type": "display_data"
    },
    {
     "name": "stderr",
     "output_type": "stream",
     "text": [
      "Generating walks (CPU: 1): 100%|██████████| 50/50 [00:00<00:00, 861.49it/s]\n",
      "Generating walks (CPU: 2): 100%|██████████| 50/50 [00:00<00:00, 864.28it/s]\n"
     ]
    },
    {
     "data": {
      "text/plain": "Computing transition probabilities:   0%|          | 0/16 [00:00<?, ?it/s]",
      "application/vnd.jupyter.widget-view+json": {
       "version_major": 2,
       "version_minor": 0,
       "model_id": "e2a84c027fa4485c9650e3d07be621f5"
      }
     },
     "metadata": {},
     "output_type": "display_data"
    },
    {
     "name": "stderr",
     "output_type": "stream",
     "text": [
      "Generating walks (CPU: 1): 100%|██████████| 50/50 [00:00<00:00, 1014.51it/s]\n",
      "Generating walks (CPU: 2): 100%|██████████| 50/50 [00:00<00:00, 982.52it/s]\n"
     ]
    },
    {
     "data": {
      "text/plain": "Computing transition probabilities:   0%|          | 0/18 [00:00<?, ?it/s]",
      "application/vnd.jupyter.widget-view+json": {
       "version_major": 2,
       "version_minor": 0,
       "model_id": "5d97d7e5c1734030a664248f6c3ba6e3"
      }
     },
     "metadata": {},
     "output_type": "display_data"
    },
    {
     "name": "stderr",
     "output_type": "stream",
     "text": [
      "Generating walks (CPU: 1): 100%|██████████| 50/50 [00:00<00:00, 872.55it/s]\n",
      "Generating walks (CPU: 2): 100%|██████████| 50/50 [00:00<00:00, 848.13it/s]\n"
     ]
    },
    {
     "data": {
      "text/plain": "Computing transition probabilities:   0%|          | 0/18 [00:00<?, ?it/s]",
      "application/vnd.jupyter.widget-view+json": {
       "version_major": 2,
       "version_minor": 0,
       "model_id": "7d72272076604a8780b6fa49ae00d607"
      }
     },
     "metadata": {},
     "output_type": "display_data"
    },
    {
     "name": "stderr",
     "output_type": "stream",
     "text": [
      "Generating walks (CPU: 1): 100%|██████████| 50/50 [00:00<00:00, 843.38it/s]\n",
      "Generating walks (CPU: 2): 100%|██████████| 50/50 [00:00<00:00, 843.83it/s]\n"
     ]
    },
    {
     "data": {
      "text/plain": "Computing transition probabilities:   0%|          | 0/11 [00:00<?, ?it/s]",
      "application/vnd.jupyter.widget-view+json": {
       "version_major": 2,
       "version_minor": 0,
       "model_id": "ac38e4151e9a40a48f9d08cc90cd8fb5"
      }
     },
     "metadata": {},
     "output_type": "display_data"
    },
    {
     "name": "stderr",
     "output_type": "stream",
     "text": [
      "Generating walks (CPU: 1): 100%|██████████| 50/50 [00:00<00:00, 1491.74it/s]\n",
      "Generating walks (CPU: 2): 100%|██████████| 50/50 [00:00<00:00, 1470.39it/s]\n"
     ]
    },
    {
     "data": {
      "text/plain": "Computing transition probabilities:   0%|          | 0/16 [00:00<?, ?it/s]",
      "application/vnd.jupyter.widget-view+json": {
       "version_major": 2,
       "version_minor": 0,
       "model_id": "d688fb2dcd9641328008b10f7109df86"
      }
     },
     "metadata": {},
     "output_type": "display_data"
    },
    {
     "name": "stderr",
     "output_type": "stream",
     "text": [
      "Generating walks (CPU: 2): 100%|██████████| 50/50 [00:00<00:00, 961.77it/s]\n",
      "Generating walks (CPU: 1): 100%|██████████| 50/50 [00:00<00:00, 926.74it/s]\n"
     ]
    },
    {
     "data": {
      "text/plain": "Computing transition probabilities:   0%|          | 0/17 [00:00<?, ?it/s]",
      "application/vnd.jupyter.widget-view+json": {
       "version_major": 2,
       "version_minor": 0,
       "model_id": "35df68c196eb40b38582f3f13098421c"
      }
     },
     "metadata": {},
     "output_type": "display_data"
    },
    {
     "name": "stderr",
     "output_type": "stream",
     "text": [
      "Generating walks (CPU: 1): 100%|██████████| 50/50 [00:00<00:00, 600.37it/s]\n",
      "Generating walks (CPU: 2): 100%|██████████| 50/50 [00:00<00:00, 605.25it/s]\n"
     ]
    },
    {
     "data": {
      "text/plain": "Computing transition probabilities:   0%|          | 0/17 [00:00<?, ?it/s]",
      "application/vnd.jupyter.widget-view+json": {
       "version_major": 2,
       "version_minor": 0,
       "model_id": "3340b3647852470bba8439c052a99cc3"
      }
     },
     "metadata": {},
     "output_type": "display_data"
    },
    {
     "name": "stderr",
     "output_type": "stream",
     "text": [
      "Generating walks (CPU: 1): 100%|██████████| 50/50 [00:00<00:00, 922.97it/s]\n",
      "Generating walks (CPU: 2): 100%|██████████| 50/50 [00:00<00:00, 939.56it/s]\n"
     ]
    },
    {
     "data": {
      "text/plain": "Computing transition probabilities:   0%|          | 0/18 [00:00<?, ?it/s]",
      "application/vnd.jupyter.widget-view+json": {
       "version_major": 2,
       "version_minor": 0,
       "model_id": "a347e1ba60b34958a1ceb78902a8c372"
      }
     },
     "metadata": {},
     "output_type": "display_data"
    },
    {
     "name": "stderr",
     "output_type": "stream",
     "text": [
      "Generating walks (CPU: 2): 100%|██████████| 50/50 [00:00<00:00, 799.54it/s]\n",
      "Generating walks (CPU: 1): 100%|██████████| 50/50 [00:00<00:00, 762.34it/s]\n"
     ]
    },
    {
     "data": {
      "text/plain": "Computing transition probabilities:   0%|          | 0/11 [00:00<?, ?it/s]",
      "application/vnd.jupyter.widget-view+json": {
       "version_major": 2,
       "version_minor": 0,
       "model_id": "d0a413744e3e441e87751abf4acfe414"
      }
     },
     "metadata": {},
     "output_type": "display_data"
    },
    {
     "name": "stderr",
     "output_type": "stream",
     "text": [
      "Generating walks (CPU: 1): 100%|██████████| 50/50 [00:00<00:00, 1434.71it/s]\n",
      "Generating walks (CPU: 2): 100%|██████████| 50/50 [00:00<00:00, 1363.28it/s]\n"
     ]
    },
    {
     "data": {
      "text/plain": "Computing transition probabilities:   0%|          | 0/15 [00:00<?, ?it/s]",
      "application/vnd.jupyter.widget-view+json": {
       "version_major": 2,
       "version_minor": 0,
       "model_id": "1dc50ebb90d64870991a30830938df97"
      }
     },
     "metadata": {},
     "output_type": "display_data"
    },
    {
     "name": "stderr",
     "output_type": "stream",
     "text": [
      "Generating walks (CPU: 1): 100%|██████████| 50/50 [00:00<00:00, 1097.92it/s]\n",
      "Generating walks (CPU: 2): 100%|██████████| 50/50 [00:00<00:00, 1087.80it/s]\n"
     ]
    },
    {
     "data": {
      "text/plain": "Computing transition probabilities:   0%|          | 0/19 [00:00<?, ?it/s]",
      "application/vnd.jupyter.widget-view+json": {
       "version_major": 2,
       "version_minor": 0,
       "model_id": "a351b485e09548ca8a920d9a595e5766"
      }
     },
     "metadata": {},
     "output_type": "display_data"
    },
    {
     "name": "stderr",
     "output_type": "stream",
     "text": [
      "Generating walks (CPU: 1): 100%|██████████| 50/50 [00:00<00:00, 840.74it/s]\n",
      "Generating walks (CPU: 2): 100%|██████████| 50/50 [00:00<00:00, 834.31it/s]\n"
     ]
    },
    {
     "data": {
      "text/plain": "Computing transition probabilities:   0%|          | 0/18 [00:00<?, ?it/s]",
      "application/vnd.jupyter.widget-view+json": {
       "version_major": 2,
       "version_minor": 0,
       "model_id": "855450ce09cc4821a3f12efb2aab1019"
      }
     },
     "metadata": {},
     "output_type": "display_data"
    },
    {
     "name": "stderr",
     "output_type": "stream",
     "text": [
      "Generating walks (CPU: 1): 100%|██████████| 50/50 [00:00<00:00, 878.70it/s]\n",
      "Generating walks (CPU: 2): 100%|██████████| 50/50 [00:00<00:00, 877.43it/s]\n"
     ]
    },
    {
     "data": {
      "text/plain": "Computing transition probabilities:   0%|          | 0/19 [00:00<?, ?it/s]",
      "application/vnd.jupyter.widget-view+json": {
       "version_major": 2,
       "version_minor": 0,
       "model_id": "75046d781d5a400b93d5bd9e25e697e7"
      }
     },
     "metadata": {},
     "output_type": "display_data"
    },
    {
     "name": "stderr",
     "output_type": "stream",
     "text": [
      "Generating walks (CPU: 1): 100%|██████████| 50/50 [00:00<00:00, 819.05it/s]\n",
      "Generating walks (CPU: 2): 100%|██████████| 50/50 [00:00<00:00, 804.51it/s]\n"
     ]
    },
    {
     "data": {
      "text/plain": "Computing transition probabilities:   0%|          | 0/14 [00:00<?, ?it/s]",
      "application/vnd.jupyter.widget-view+json": {
       "version_major": 2,
       "version_minor": 0,
       "model_id": "c4b7ac635bc541fb908b5b92663ea3a1"
      }
     },
     "metadata": {},
     "output_type": "display_data"
    },
    {
     "name": "stderr",
     "output_type": "stream",
     "text": [
      "Generating walks (CPU: 1): 100%|██████████| 50/50 [00:00<00:00, 1110.47it/s]\n",
      "Generating walks (CPU: 2): 100%|██████████| 50/50 [00:00<00:00, 1034.79it/s]\n"
     ]
    },
    {
     "data": {
      "text/plain": "Computing transition probabilities:   0%|          | 0/13 [00:00<?, ?it/s]",
      "application/vnd.jupyter.widget-view+json": {
       "version_major": 2,
       "version_minor": 0,
       "model_id": "5046e4c999a8471c8c5781951950bb22"
      }
     },
     "metadata": {},
     "output_type": "display_data"
    },
    {
     "name": "stderr",
     "output_type": "stream",
     "text": [
      "Generating walks (CPU: 1): 100%|██████████| 50/50 [00:00<00:00, 1272.46it/s]\n",
      "Generating walks (CPU: 2): 100%|██████████| 50/50 [00:00<00:00, 1246.20it/s]\n"
     ]
    },
    {
     "data": {
      "text/plain": "Computing transition probabilities:   0%|          | 0/10 [00:00<?, ?it/s]",
      "application/vnd.jupyter.widget-view+json": {
       "version_major": 2,
       "version_minor": 0,
       "model_id": "667b7aff06474ab099de84afbe2c5b0f"
      }
     },
     "metadata": {},
     "output_type": "display_data"
    },
    {
     "name": "stderr",
     "output_type": "stream",
     "text": [
      "Generating walks (CPU: 1): 100%|██████████| 50/50 [00:00<00:00, 1558.54it/s]\n",
      "Generating walks (CPU: 2): 100%|██████████| 50/50 [00:00<00:00, 1626.88it/s]\n"
     ]
    },
    {
     "data": {
      "text/plain": "Computing transition probabilities:   0%|          | 0/13 [00:00<?, ?it/s]",
      "application/vnd.jupyter.widget-view+json": {
       "version_major": 2,
       "version_minor": 0,
       "model_id": "42ecd01574ca4130ab9b22083c23434e"
      }
     },
     "metadata": {},
     "output_type": "display_data"
    },
    {
     "name": "stderr",
     "output_type": "stream",
     "text": [
      "Generating walks (CPU: 1): 100%|██████████| 50/50 [00:00<00:00, 1288.93it/s]\n",
      "Generating walks (CPU: 2): 100%|██████████| 50/50 [00:00<00:00, 1249.46it/s]\n"
     ]
    },
    {
     "data": {
      "text/plain": "Computing transition probabilities:   0%|          | 0/15 [00:00<?, ?it/s]",
      "application/vnd.jupyter.widget-view+json": {
       "version_major": 2,
       "version_minor": 0,
       "model_id": "baf495914f1c4dd2a56eed2b3500b717"
      }
     },
     "metadata": {},
     "output_type": "display_data"
    },
    {
     "name": "stderr",
     "output_type": "stream",
     "text": [
      "Generating walks (CPU: 1): 100%|██████████| 50/50 [00:00<00:00, 750.71it/s]\n",
      "Generating walks (CPU: 2): 100%|██████████| 50/50 [00:00<00:00, 750.26it/s]\n"
     ]
    },
    {
     "data": {
      "text/plain": "Computing transition probabilities:   0%|          | 0/10 [00:00<?, ?it/s]",
      "application/vnd.jupyter.widget-view+json": {
       "version_major": 2,
       "version_minor": 0,
       "model_id": "419b63c941684207b046bdd65f5868f5"
      }
     },
     "metadata": {},
     "output_type": "display_data"
    },
    {
     "name": "stderr",
     "output_type": "stream",
     "text": [
      "Generating walks (CPU: 1): 100%|██████████| 50/50 [00:00<00:00, 1657.21it/s]\n",
      "Generating walks (CPU: 2): 100%|██████████| 50/50 [00:00<00:00, 1597.06it/s]\n"
     ]
    },
    {
     "data": {
      "text/plain": "Computing transition probabilities:   0%|          | 0/12 [00:00<?, ?it/s]",
      "application/vnd.jupyter.widget-view+json": {
       "version_major": 2,
       "version_minor": 0,
       "model_id": "d5a969361db94dafac0cbdcaabee9ded"
      }
     },
     "metadata": {},
     "output_type": "display_data"
    },
    {
     "name": "stderr",
     "output_type": "stream",
     "text": [
      "Generating walks (CPU: 1): 100%|██████████| 50/50 [00:00<00:00, 1414.40it/s]\n",
      "Generating walks (CPU: 2): 100%|██████████| 50/50 [00:00<00:00, 1358.42it/s]\n"
     ]
    },
    {
     "data": {
      "text/plain": "Computing transition probabilities:   0%|          | 0/18 [00:00<?, ?it/s]",
      "application/vnd.jupyter.widget-view+json": {
       "version_major": 2,
       "version_minor": 0,
       "model_id": "cadfec087d274a80b32080a97bb1a45d"
      }
     },
     "metadata": {},
     "output_type": "display_data"
    },
    {
     "name": "stderr",
     "output_type": "stream",
     "text": [
      "Generating walks (CPU: 1): 100%|██████████| 50/50 [00:00<00:00, 671.40it/s]\n",
      "Generating walks (CPU: 2): 100%|██████████| 50/50 [00:00<00:00, 677.51it/s]\n"
     ]
    },
    {
     "data": {
      "text/plain": "Computing transition probabilities:   0%|          | 0/13 [00:00<?, ?it/s]",
      "application/vnd.jupyter.widget-view+json": {
       "version_major": 2,
       "version_minor": 0,
       "model_id": "ef6fc1fc444e42aabce5c0593b5e329b"
      }
     },
     "metadata": {},
     "output_type": "display_data"
    },
    {
     "name": "stderr",
     "output_type": "stream",
     "text": [
      "Generating walks (CPU: 1): 100%|██████████| 50/50 [00:00<00:00, 1146.84it/s]\n",
      "Generating walks (CPU: 2): 100%|██████████| 50/50 [00:00<00:00, 1133.26it/s]\n"
     ]
    },
    {
     "data": {
      "text/plain": "Computing transition probabilities:   0%|          | 0/13 [00:00<?, ?it/s]",
      "application/vnd.jupyter.widget-view+json": {
       "version_major": 2,
       "version_minor": 0,
       "model_id": "b4bc8c5616b4483596c2774425b11263"
      }
     },
     "metadata": {},
     "output_type": "display_data"
    },
    {
     "name": "stderr",
     "output_type": "stream",
     "text": [
      "Generating walks (CPU: 1): 100%|██████████| 50/50 [00:00<00:00, 1143.68it/s]\n",
      "Generating walks (CPU: 2): 100%|██████████| 50/50 [00:00<00:00, 1164.16it/s]\n"
     ]
    },
    {
     "data": {
      "text/plain": "Computing transition probabilities:   0%|          | 0/17 [00:00<?, ?it/s]",
      "application/vnd.jupyter.widget-view+json": {
       "version_major": 2,
       "version_minor": 0,
       "model_id": "bc921db803dd4022be019db593406008"
      }
     },
     "metadata": {},
     "output_type": "display_data"
    },
    {
     "name": "stderr",
     "output_type": "stream",
     "text": [
      "Generating walks (CPU: 1): 100%|██████████| 50/50 [00:00<00:00, 745.60it/s]\n",
      "Generating walks (CPU: 2): 100%|██████████| 50/50 [00:00<00:00, 746.40it/s]\n"
     ]
    },
    {
     "data": {
      "text/plain": "Computing transition probabilities:   0%|          | 0/11 [00:00<?, ?it/s]",
      "application/vnd.jupyter.widget-view+json": {
       "version_major": 2,
       "version_minor": 0,
       "model_id": "b8b9f92dc3bd48fcbabf37254feadb72"
      }
     },
     "metadata": {},
     "output_type": "display_data"
    },
    {
     "name": "stderr",
     "output_type": "stream",
     "text": [
      "Generating walks (CPU: 1): 100%|██████████| 50/50 [00:00<00:00, 1334.68it/s]\n",
      "\n"
     ]
    },
    {
     "data": {
      "text/plain": "Computing transition probabilities:   0%|          | 0/19 [00:00<?, ?it/s]",
      "application/vnd.jupyter.widget-view+json": {
       "version_major": 2,
       "version_minor": 0,
       "model_id": "d676c4c02ca04f8fb3c866dad9f678b7"
      }
     },
     "metadata": {},
     "output_type": "display_data"
    },
    {
     "name": "stderr",
     "output_type": "stream",
     "text": [
      "Generating walks (CPU: 1): 100%|██████████| 50/50 [00:00<00:00, 446.79it/s]\n",
      "Generating walks (CPU: 2): 100%|██████████| 50/50 [00:00<00:00, 453.17it/s]\n"
     ]
    },
    {
     "data": {
      "text/plain": "Computing transition probabilities:   0%|          | 0/14 [00:00<?, ?it/s]",
      "application/vnd.jupyter.widget-view+json": {
       "version_major": 2,
       "version_minor": 0,
       "model_id": "0436808965f04e1292d91f5aac16e278"
      }
     },
     "metadata": {},
     "output_type": "display_data"
    },
    {
     "name": "stderr",
     "output_type": "stream",
     "text": [
      "Generating walks (CPU: 1): 100%|██████████| 50/50 [00:00<00:00, 1005.29it/s]\n",
      "Generating walks (CPU: 2): 100%|██████████| 50/50 [00:00<00:00, 1033.45it/s]\n"
     ]
    },
    {
     "data": {
      "text/plain": "Computing transition probabilities:   0%|          | 0/12 [00:00<?, ?it/s]",
      "application/vnd.jupyter.widget-view+json": {
       "version_major": 2,
       "version_minor": 0,
       "model_id": "9fbb0db075a942e1af857b6223eb0f2b"
      }
     },
     "metadata": {},
     "output_type": "display_data"
    },
    {
     "name": "stderr",
     "output_type": "stream",
     "text": [
      "Generating walks (CPU: 1): 100%|██████████| 50/50 [00:00<00:00, 1383.09it/s]\n",
      "Generating walks (CPU: 2): 100%|██████████| 50/50 [00:00<00:00, 1419.91it/s]\n"
     ]
    },
    {
     "data": {
      "text/plain": "Computing transition probabilities:   0%|          | 0/12 [00:00<?, ?it/s]",
      "application/vnd.jupyter.widget-view+json": {
       "version_major": 2,
       "version_minor": 0,
       "model_id": "204d7e8def0449be8365235b6de1c9a5"
      }
     },
     "metadata": {},
     "output_type": "display_data"
    },
    {
     "name": "stderr",
     "output_type": "stream",
     "text": [
      "Generating walks (CPU: 1): 100%|██████████| 50/50 [00:00<00:00, 1077.54it/s]\n",
      "Generating walks (CPU: 2): 100%|██████████| 50/50 [00:00<00:00, 1057.21it/s]\n"
     ]
    },
    {
     "data": {
      "text/plain": "Computing transition probabilities:   0%|          | 0/8 [00:00<?, ?it/s]",
      "application/vnd.jupyter.widget-view+json": {
       "version_major": 2,
       "version_minor": 0,
       "model_id": "d75069c317294831a16330b4bc839e1f"
      }
     },
     "metadata": {},
     "output_type": "display_data"
    },
    {
     "name": "stderr",
     "output_type": "stream",
     "text": [
      "Generating walks (CPU: 2): 100%|██████████| 50/50 [00:00<00:00, 1912.43it/s]\n",
      "Generating walks (CPU: 1): 100%|██████████| 50/50 [00:00<00:00, 1198.73it/s]\n"
     ]
    },
    {
     "data": {
      "text/plain": "Computing transition probabilities:   0%|          | 0/8 [00:00<?, ?it/s]",
      "application/vnd.jupyter.widget-view+json": {
       "version_major": 2,
       "version_minor": 0,
       "model_id": "77b438dedb4a4024981b7d95057fb9a1"
      }
     },
     "metadata": {},
     "output_type": "display_data"
    },
    {
     "name": "stderr",
     "output_type": "stream",
     "text": [
      "Generating walks (CPU: 1): 100%|██████████| 50/50 [00:00<00:00, 2033.15it/s]\n",
      "Generating walks (CPU: 2): 100%|██████████| 50/50 [00:00<00:00, 2024.98it/s]\n"
     ]
    },
    {
     "data": {
      "text/plain": "Computing transition probabilities:   0%|          | 0/8 [00:00<?, ?it/s]",
      "application/vnd.jupyter.widget-view+json": {
       "version_major": 2,
       "version_minor": 0,
       "model_id": "aff6abad50434fe9bb02d875fcbcdc64"
      }
     },
     "metadata": {},
     "output_type": "display_data"
    },
    {
     "name": "stderr",
     "output_type": "stream",
     "text": [
      "Generating walks (CPU: 1): 100%|██████████| 50/50 [00:00<00:00, 1920.64it/s]\n",
      "Generating walks (CPU: 2): 100%|██████████| 50/50 [00:00<00:00, 1878.83it/s]\n"
     ]
    },
    {
     "data": {
      "text/plain": "Computing transition probabilities:   0%|          | 0/8 [00:00<?, ?it/s]",
      "application/vnd.jupyter.widget-view+json": {
       "version_major": 2,
       "version_minor": 0,
       "model_id": "a79370f5067d49a6985ac7484efb0838"
      }
     },
     "metadata": {},
     "output_type": "display_data"
    },
    {
     "name": "stderr",
     "output_type": "stream",
     "text": [
      "Generating walks (CPU: 1): 100%|██████████| 50/50 [00:00<00:00, 2077.09it/s]\n",
      "Generating walks (CPU: 2): 100%|██████████| 50/50 [00:00<00:00, 1995.82it/s]\n"
     ]
    },
    {
     "data": {
      "text/plain": "Computing transition probabilities:   0%|          | 0/16 [00:00<?, ?it/s]",
      "application/vnd.jupyter.widget-view+json": {
       "version_major": 2,
       "version_minor": 0,
       "model_id": "e35df550f76d44399e16523b1f78e324"
      }
     },
     "metadata": {},
     "output_type": "display_data"
    },
    {
     "name": "stderr",
     "output_type": "stream",
     "text": [
      "Generating walks (CPU: 1): 100%|██████████| 50/50 [00:00<00:00, 691.66it/s]\n",
      "Generating walks (CPU: 2): 100%|██████████| 50/50 [00:00<00:00, 689.16it/s]\n"
     ]
    },
    {
     "data": {
      "text/plain": "Computing transition probabilities:   0%|          | 0/16 [00:00<?, ?it/s]",
      "application/vnd.jupyter.widget-view+json": {
       "version_major": 2,
       "version_minor": 0,
       "model_id": "58d47ec5939b475194d871e71c8bf5a0"
      }
     },
     "metadata": {},
     "output_type": "display_data"
    },
    {
     "name": "stderr",
     "output_type": "stream",
     "text": [
      "Generating walks (CPU: 2): 100%|██████████| 50/50 [00:00<00:00, 995.01it/s]\n",
      "Generating walks (CPU: 1): 100%|██████████| 50/50 [00:00<00:00, 945.30it/s]\n"
     ]
    },
    {
     "data": {
      "text/plain": "Computing transition probabilities:   0%|          | 0/8 [00:00<?, ?it/s]",
      "application/vnd.jupyter.widget-view+json": {
       "version_major": 2,
       "version_minor": 0,
       "model_id": "543d7dbb5668486c967a5937c6d8c2d7"
      }
     },
     "metadata": {},
     "output_type": "display_data"
    },
    {
     "name": "stderr",
     "output_type": "stream",
     "text": [
      "Generating walks (CPU: 2): 100%|██████████| 50/50 [00:00<00:00, 2079.72it/s]\n",
      "Generating walks (CPU: 1): 100%|██████████| 50/50 [00:00<00:00, 1891.15it/s]\n"
     ]
    },
    {
     "data": {
      "text/plain": "Computing transition probabilities:   0%|          | 0/8 [00:00<?, ?it/s]",
      "application/vnd.jupyter.widget-view+json": {
       "version_major": 2,
       "version_minor": 0,
       "model_id": "d89d957c9be24d54b26d51a2f6a56f5d"
      }
     },
     "metadata": {},
     "output_type": "display_data"
    },
    {
     "name": "stderr",
     "output_type": "stream",
     "text": [
      "Generating walks (CPU: 1): 100%|██████████| 50/50 [00:00<00:00, 1995.56it/s]\n",
      "Generating walks (CPU: 2): 100%|██████████| 50/50 [00:00<00:00, 1889.79it/s]\n"
     ]
    },
    {
     "data": {
      "text/plain": "Computing transition probabilities:   0%|          | 0/8 [00:00<?, ?it/s]",
      "application/vnd.jupyter.widget-view+json": {
       "version_major": 2,
       "version_minor": 0,
       "model_id": "c39eb63456374b6e9376c91016e55960"
      }
     },
     "metadata": {},
     "output_type": "display_data"
    },
    {
     "name": "stderr",
     "output_type": "stream",
     "text": [
      "Generating walks (CPU: 1): 100%|██████████| 50/50 [00:00<00:00, 2094.66it/s]\n",
      "Generating walks (CPU: 2): 100%|██████████| 50/50 [00:00<00:00, 1855.13it/s]\n"
     ]
    },
    {
     "data": {
      "text/plain": "Computing transition probabilities:   0%|          | 0/16 [00:00<?, ?it/s]",
      "application/vnd.jupyter.widget-view+json": {
       "version_major": 2,
       "version_minor": 0,
       "model_id": "0e9a7a6549ed4ecb9ece4afd77595d77"
      }
     },
     "metadata": {},
     "output_type": "display_data"
    },
    {
     "name": "stderr",
     "output_type": "stream",
     "text": [
      "Generating walks (CPU: 1): 100%|██████████| 50/50 [00:00<00:00, 867.35it/s]\n",
      "Generating walks (CPU: 2): 100%|██████████| 50/50 [00:00<00:00, 857.32it/s]\n"
     ]
    }
   ],
   "source": [
    "test = RavidaItGCDAtaset(testset)\n",
    "train  = RavidaItGCDAtaset(trainset)\n",
    "\n",
    "clear_output()\n",
    "\n",
    "# Use PyTorch's DataLoader and the collate function\n",
    "# defined before.\n",
    "'''\n",
    "[PMLDL]\n",
    "\n",
    "Here pass new version of collate()\n",
    "\n",
    "[/PMLDL]\n",
    "'''\n",
    "data_loader = DataLoader(train, batch_size=32, shuffle=True,\n",
    "                         collate_fn=my_collate())\n",
    "\n",
    "# Create model\n",
    "'''\n",
    "[PMLDL]\n",
    "\n",
    "Here pass new dimension of input (say, 50) as the first parameter.\n",
    "\n",
    "[/PMLDL]\n",
    "'''\n",
    "\n",
    "model = Classifier(1, 256, train.num_classes)\n",
    "loss_func = nn.CrossEntropyLoss()\n",
    "optimizer = optim.Adam(model.parameters(), lr=0.001)\n",
    "model.train()\n",
    "\n",
    "epoch_losses = []\n",
    "for epoch in range(80):\n",
    "    epoch_loss = 0\n",
    "    for iter, (bg, label) in enumerate(data_loader):\n",
    "        prediction = model(bg)\n",
    "        loss = loss_func(prediction, label)\n",
    "        optimizer.zero_grad()\n",
    "        loss.backward()\n",
    "        optimizer.step()\n",
    "        epoch_loss += loss.detach().item()\n",
    "    epoch_loss /= (iter + 1)\n",
    "    print('Epoch {}, loss {:.4f}'.format(epoch, epoch_loss))\n",
    "    epoch_losses.append(epoch_loss)"
   ],
   "metadata": {
    "collapsed": false,
    "pycharm": {
     "name": "#%%\n",
     "is_executing": true
    }
   }
  },
  {
   "cell_type": "markdown",
   "metadata": {},
   "source": [
    "The learning curve of a run is presented below.\n",
    "\n"
   ]
  },
  {
   "cell_type": "code",
   "execution_count": null,
   "metadata": {},
   "outputs": [],
   "source": [
    "plt.title('cross entropy averaged over minibatches')\n",
    "plt.plot(epoch_losses)\n",
    "plt.show()"
   ]
  },
  {
   "cell_type": "markdown",
   "metadata": {},
   "source": [
    "The trained model is evaluated on the test set created. To deploy\n",
    "the tutorial, restrict the running time to get a higher\n",
    "accuracy ($80$ % ~ $90$ %) than the ones printed below.\n",
    "\n"
   ]
  },
  {
   "cell_type": "code",
   "execution_count": null,
   "metadata": {},
   "outputs": [],
   "source": [
    "model.eval()\n",
    "# Convert a list of tuples to two lists\n",
    "'''\n",
    "[PMLDL]\n",
    "\n",
    "Slightly modify this code to evaluate results, as batch should contain three elements\n",
    "\n",
    "[/PMLDL]\n",
    "'''\n",
    "test_X_graph, test_X_features, test_Y = map(list, zip(*testset))\n",
    "test_bg = dgl.batch(test_X_graph)\n",
    "test_feat = torch.tensor(np.vstack(test_X_features))\n",
    "test_Y = torch.tensor(test_Y).float().view(-1, 1)\n",
    "\n",
    "probs_Y = torch.softmax(model(test_bg, test_feat), 1)\n",
    "sampled_Y = torch.multinomial(probs_Y, 1)\n",
    "argmax_Y = torch.max(probs_Y, 1)[1].view(-1, 1)\n",
    "print('Accuracy of sampled predictions on the test set: {:.4f}%'.format(\n",
    "    (test_Y == sampled_Y.float()).sum().item() / len(test_Y) * 100))\n",
    "print('Accuracy of argmax predictions on the test set: {:4f}%'.format(\n",
    "    (test_Y == argmax_Y.float()).sum().item() / len(test_Y) * 100))"
   ]
  },
  {
   "cell_type": "markdown",
   "metadata": {},
   "source": [
    "\n",
    "\n",
    "What's next?\n",
    "------------\n",
    "Graph classification with graph neural networks is still a new field.\n",
    "It's waiting for people to bring more exciting discoveries. The work requires \n",
    "mapping different graphs to different embeddings, while preserving\n",
    "their structural similarity in the embedding space. To learn more about it, see \n",
    "`How Powerful Are Graph Neural Networks? <https://arxiv.org/abs/1810.00826>`_ a research paper  \n",
    "published for the International Conference on Learning Representations 2019.\n",
    "\n",
    "For more examples about batched graph processing, see the following:\n",
    "\n",
    "* Tutorials for `Tree LSTM <https://docs.dgl.ai/tutorials/models/2_small_graph/3_tree-lstm.html>`_ and `Deep Generative Models of Graphs <https://docs.dgl.ai/tutorials/models/3_generative_model/5_dgmg.html>`_\n",
    "* An example implementation of `Junction Tree VAE <https://github.com/dmlc/dgl/tree/master/examples/pytorch/jtnn>`_\n",
    "\n"
   ]
  }
 ],
 "metadata": {
  "kernelspec": {
   "display_name": "Python 3",
   "language": "python",
   "name": "python3"
  },
  "language_info": {
   "codemirror_mode": {
    "name": "ipython",
    "version": 3
   },
   "file_extension": ".py",
   "mimetype": "text/x-python",
   "name": "python",
   "nbconvert_exporter": "python",
   "pygments_lexer": "ipython3",
   "version": "3.7.6"
  }
 },
 "nbformat": 4,
 "nbformat_minor": 1
}